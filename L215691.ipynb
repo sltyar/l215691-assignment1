{
  "nbformat": 4,
  "nbformat_minor": 0,
  "metadata": {
    "colab": {
      "provenance": [],
      "collapsed_sections": []
    },
    "kernelspec": {
      "name": "python3",
      "display_name": "Python 3"
    },
    "language_info": {
      "name": "python"
    }
  },
  "cells": [
    {
      "cell_type": "markdown",
      "source": [
        "# Introduction To Data Science – Assignment 1\n",
        "\n",
        "---\n",
        "\n",
        "### Sections A – B – C – D\n",
        "\n",
        "---\n",
        "\n",
        "***Instructions***\n",
        "\n",
        "Due Date: Sunday 18th September 2022 – 11:59PM\n",
        "\n",
        "Name the file in the format Lyyxxxx and save it as .ipynb (e.g. L201234.ipynb)\n",
        "\n",
        "Submission will be taken on **GitHub and Google Classroom (submit the .ipynb file)** - Instructions to upload onto GitHub are provided in the link https://docs.google.com/document/d/1BR1ULOGeGWJVU6Rr6Qty1FR-quVRZyRvQGII6nEs-wo/edit?usp=sharing\n",
        "\n",
        "After uploading and submitting the .ipynb file onto Google Classroom, also private comment the link to the GitHub repository.\n",
        "\n",
        "All source files needed to complete this assignment can be found on the following Google Drive link https://drive.google.com/drive/folders/1VrkaVcExGWqilSeh50WZe4gUBjmUiJ9b?usp=sharing\n",
        "\n",
        "TA Emails\n",
        "\n",
        "Section A, C - Muhammad Maarij l192347@lhr.nu.edu.pk\n",
        "\n",
        "Section B, D - Hira Ijaz l192377@lhr.nu.edu.pk\n",
        "\n",
        "Happy Coding 😊\n",
        "\n",
        "---"
      ],
      "metadata": {
        "id": "TWWLTwYZorzC"
      }
    },
    {
      "cell_type": "markdown",
      "source": [
        "---\n",
        "## Question 1\n",
        "---"
      ],
      "metadata": {
        "id": "arB_0r9H0jjC"
      }
    },
    {
      "cell_type": "markdown",
      "source": [
        "Define a procedure called \"check_input\" that takes an input as a square list of lists (2D Matrix of N x N) and returns a boolen \"true\" if the input is valid or \"false\" otherwise, according to the following criteria.\n",
        "\n",
        "1. Each coloumn must contain numbers from between 1 and N, with no duplicates.\n",
        "2. Each row must contain numbers from between 1 and N, with no duplicates."
      ],
      "metadata": {
        "id": "qHPTNDy30n99"
      }
    },
    {
      "cell_type": "code",
      "source": [
        "import numpy as np\n",
        "def check_input(matrix):\n",
        "  for row in matrix:\n",
        "            for item in row:\n",
        "                if type(item) != int:\n",
        "                    return False\n",
        "    \n",
        "       \n",
        "  for row in matrix:\n",
        "      if len(row) != len(set(row)):\n",
        "          return False\n",
        "    \n",
        "       \n",
        "  transpose = np.transpose(matrix)\n",
        "  for col in transpose:\n",
        "      if len(col) != len(set(col)):\n",
        "          return False\n",
        "    \n",
        "  return True\n",
        "\n",
        "\n",
        "test1 = [[1, 2, 3],\n",
        "        [2, 3, 1],\n",
        "        [3, 1, 2]]\n",
        "\n",
        "test2 = [[1, 2, 3, 4],\n",
        "        [2, 3, 1, 3],\n",
        "        [3, 1, 2, 3],\n",
        "        [4, 4, 4, 4]]\n",
        "\n",
        "test3 = [['a', 'b', 'c'],\n",
        "        ['b', 'c', 'a'],\n",
        "        ['c', 'a', 'b']]\n",
        "\n",
        "print(check_input(test1)) # must return true\n",
        "print(check_input(test2)) # must return false\n",
        "print(check_input(test3)) # must return false"
      ],
      "metadata": {
        "id": "S2_Zic322Lt7",
        "colab": {
          "base_uri": "https://localhost:8080/"
        },
        "outputId": "e7712ff9-0a40-4f12-dc12-d828ef407a00"
      },
      "execution_count": null,
      "outputs": [
        {
          "output_type": "stream",
          "name": "stdout",
          "text": [
            "True\n",
            "False\n",
            "False\n"
          ]
        }
      ]
    },
    {
      "cell_type": "markdown",
      "source": [
        "---\n",
        "## Question 2\n",
        "---"
      ],
      "metadata": {
        "id": "4RVTlnhWqOUC"
      }
    },
    {
      "cell_type": "markdown",
      "source": [
        "**Part A** - Import the file \"StudentMarkSheet.csv\" as a Pandas DataFrame and print the information for the dataframe"
      ],
      "metadata": {
        "id": "Uyc7JPtNt0pR"
      }
    },
    {
      "cell_type": "code",
      "source": [
        "from google.colab import drive\n",
        "\n",
        "drive.mount('/content/drive')"
      ],
      "metadata": {
        "colab": {
          "base_uri": "https://localhost:8080/"
        },
        "id": "J9tCS82rUTTR",
        "outputId": "10ceea3d-99c2-45ea-c1b8-6b60e75a56ad"
      },
      "execution_count": 24,
      "outputs": [
        {
          "output_type": "stream",
          "name": "stdout",
          "text": [
            "Drive already mounted at /content/drive; to attempt to forcibly remount, call drive.mount(\"/content/drive\", force_remount=True).\n"
          ]
        }
      ]
    },
    {
      "cell_type": "code",
      "execution_count": 26,
      "metadata": {
        "id": "wYrt7e6Xop2P",
        "colab": {
          "base_uri": "https://localhost:8080/"
        },
        "outputId": "9cd662dd-eb10-4413-dcbb-854dfc75d95d"
      },
      "outputs": [
        {
          "output_type": "stream",
          "name": "stdout",
          "text": [
            "<class 'pandas.core.frame.DataFrame'>\n",
            "RangeIndex: 200 entries, 0 to 199\n",
            "Data columns (total 4 columns):\n",
            " #   Column        Non-Null Count  Dtype  \n",
            "---  ------        --------------  -----  \n",
            " 0   Student name  200 non-null    object \n",
            " 1   Exam name     199 non-null    object \n",
            " 2   Exam date     200 non-null    object \n",
            " 3   Marks         197 non-null    float64\n",
            "dtypes: float64(1), object(3)\n",
            "memory usage: 6.4+ KB\n",
            "None\n"
          ]
        }
      ],
      "source": [
        "import pandas as pd\n",
        "url=\"/content/drive/MyDrive/StudentMarkSheet.csv\"\n",
        "student_mark_sheet=pd.read_csv(url)\n",
        "#print(student_mark_sheet.to_string())\n",
        "\n",
        "print(student_mark_sheet.info())"
      ]
    },
    {
      "cell_type": "markdown",
      "source": [
        "**Part B** - Remove any rows that do not contain all the data. Also print the following information.\n",
        "\n",
        "1. Number of rows before\n",
        "2. Number of rows containing null data\n",
        "3. Number of rows after"
      ],
      "metadata": {
        "id": "jIaMvgcft_i0"
      }
    },
    {
      "cell_type": "code",
      "source": [
        "student_mark_sheet=student_mark_sheet.dropna()\n",
        "print((student_mark_sheet))      "
      ],
      "metadata": {
        "id": "_ov_SWdxuZUm",
        "colab": {
          "base_uri": "https://localhost:8080/"
        },
        "outputId": "86a7d2d4-139f-49b0-819a-e139401df32d"
      },
      "execution_count": 27,
      "outputs": [
        {
          "output_type": "stream",
          "name": "stdout",
          "text": [
            "        Student name  Exam name   Exam date  Marks\n",
            "0       James Walker    Biology  05/06/2016   31.0\n",
            "1      Velma Clemons    Biology  05/06/2016   43.0\n",
            "2     Kibo Underwood    Biology  05/06/2016   81.0\n",
            "3        Louis Mcgee    Biology  05/06/2016   11.0\n",
            "4       Phyllis Paul    Biology  05/06/2016   18.0\n",
            "..               ...        ...         ...    ...\n",
            "195       Yen Bowers  Sociology  21/06/2016   52.0\n",
            "196        Ryan Pena  Sociology  21/06/2016   16.0\n",
            "197  Portia Hamilton  Sociology  21/06/2016   34.0\n",
            "198  Sydnee Chambers  Sociology  21/06/2016   76.0\n",
            "199      Stacy Small  Sociology  21/06/2016   96.0\n",
            "\n",
            "[196 rows x 4 columns]\n"
          ]
        }
      ]
    },
    {
      "cell_type": "markdown",
      "source": [
        "**Part C** - Print all the marks along with the subject for the student named \"James Walker\""
      ],
      "metadata": {
        "id": "2kd9zAX6wkXM"
      }
    },
    {
      "cell_type": "code",
      "source": [
        "df = pd.DataFrame(student_mark_sheet,columns =['Student name', 'Exam name','Marks'])\n",
        "df.set_index(\"Student name\", inplace = True)\n",
        "temp = df.loc[\"James Walker\"]\n",
        "print(temp)"
      ],
      "metadata": {
        "id": "N0HWJN-PwuSo",
        "colab": {
          "base_uri": "https://localhost:8080/"
        },
        "outputId": "102b2f85-9d6b-44e1-f66d-6ca3ac3e9495"
      },
      "execution_count": 28,
      "outputs": [
        {
          "output_type": "stream",
          "name": "stdout",
          "text": [
            "                Exam name  Marks\n",
            "Student name                    \n",
            "James Walker      Biology   31.0\n",
            "James Walker    Chemistry   61.0\n",
            "James Walker  Mathematics   23.0\n",
            "James Walker      Physics  100.0\n",
            "James Walker    Sociology   73.0\n"
          ]
        }
      ]
    },
    {
      "cell_type": "markdown",
      "source": [
        "---\n",
        "## Question 3\n",
        "---"
      ],
      "metadata": {
        "id": "ts8Y1EXmwzhf"
      }
    },
    {
      "cell_type": "markdown",
      "source": [
        "**Part A** - From the DataFrame created in Question 2, calculate the average marks for each subject"
      ],
      "metadata": {
        "id": "PJENm_hpw3GQ"
      }
    },
    {
      "cell_type": "code",
      "source": [
        "# df=pd.DataFrame(student_marksheet_dataset, columns=['Marks'])\n",
        "# df['avg'] = df.iloc[:,0:2].mean(axis=1)\n",
        "# print (df)\n",
        "# asked help. didn't work. tried using groupby\n",
        "df = pd.DataFrame(student_mark_sheet)\n",
        "print('bio avg: ')\n",
        "avg_b = df['Marks'].iloc[[0,1,2,3,4,5,6,7,8,9,10,11,12,13,14,15,16,17,18,19,20,21,22,23,24,25,26,27,28,29,30,31,32,33,34,35,36,37]].mean(axis=0)\n",
        "print(avg_b)\n",
        "\n",
        "print('chem avg: ')\n",
        "avg_c = df['Marks'].iloc[[38,39,40,41,42,43,44,45,46,47,48,49,50,51,52,53,54,55,56,57,58,59,60,61,62,63,64]].mean(axis=0)\n",
        "print(avg_c)\n",
        "\n",
        "print('math avg: ')\n",
        "avg_m = df['Marks'].iloc[[65,66,67,68,69,70,71,72,73,74,75,76,78,79,80,81,82,83,84,85,86,87,88,89,90,91,92,93,94,95,96,97,98,99,100,101]].mean(axis=0)\n",
        "print(avg_m)\n",
        "\n",
        "print('philosophy avg: ')\n",
        "avg_p = df['Marks'].iloc[[102,103,104,105,106,107,108,109,110,111,112,113,114,115,116,117,118,119,120,121,122,123,124,125,126,127,128,129,130,131,132,133,134,135,136,137,138,139]].mean(axis=0)\n",
        "print(avg_p)\n",
        "\n",
        "print('physics avg: ')\n",
        "avg_ph = df['Marks'].iloc[[140, 141, 142,143,144,145,146,147,148,149,150,151,152,153,154,155,156,157,158,159,160]].mean(axis=0)\n",
        "print(avg_ph)\n",
        "\n",
        "print('sociology avg: ')\n",
        "avg_s = df['Marks'].iloc[[161,162,163,164,165,166,167,168,169,170,171,172,173,174,175,176,177,178,179,180,181,182,183,184,185,186,187,188,189,191,192,193,194]].mean(axis=0)\n",
        "print(avg_s)\n"
      ],
      "metadata": {
        "id": "AxhCtST5xS3L",
        "colab": {
          "base_uri": "https://localhost:8080/"
        },
        "outputId": "ca1d8752-25ac-4d20-b3bf-d633d52537bb"
      },
      "execution_count": 50,
      "outputs": [
        {
          "output_type": "stream",
          "name": "stdout",
          "text": [
            "bio avg: \n",
            "47.89473684210526\n",
            "chem avg: \n",
            "50.48148148148148\n",
            "math avg: \n",
            "47.666666666666664\n",
            "philosophy avg: \n",
            "48.55263157894737\n",
            "physics avg: \n",
            "50.714285714285715\n",
            "sociology avg: \n",
            "54.36363636363637\n"
          ]
        }
      ]
    },
    {
      "cell_type": "markdown",
      "source": [
        "**Part B** - Using the averages you just calculated, plot a Bar Graph showing the average marks of each subject"
      ],
      "metadata": {
        "id": "NDlaA7hHxUBc"
      }
    },
    {
      "cell_type": "code",
      "source": [
        "import matplotlib.pyplot as plt\n",
        "graph = plt.figure()\n",
        "ax = graph.add_axes([0,0,1,1])\n",
        "xaxis = ['bio', 'chem', 'math', 'philosophy', 'physics', 'sociology']\n",
        "yaxis = [avg_b, avg_c, avg_m, avg_p, avg_ph, avg_s]\n",
        "ax.bar(xaxis, yaxis)\n",
        "plt.show()"
      ],
      "metadata": {
        "id": "LWoPFZBOyyNn",
        "colab": {
          "base_uri": "https://localhost:8080/",
          "height": 336
        },
        "outputId": "01c089d9-6465-41c9-d6c8-4887641409e4"
      },
      "execution_count": 51,
      "outputs": [
        {
          "output_type": "display_data",
          "data": {
            "text/plain": [
              "<Figure size 432x288 with 1 Axes>"
            ],
            "image/png": "[encoded data removed]"
          },
          "metadata": {
            "needs_background": "light"
          }
        }
      ]
    },
    {
      "cell_type": "markdown",
      "source": [
        "---\n",
        "## Question 4\n",
        "---"
      ],
      "metadata": {
        "id": "dWlOSOIs6d1R"
      }
    },
    {
      "cell_type": "markdown",
      "source": [
        "**Part A** - Import the file \"CatData.csv\" and preprocess it to remove any null values"
      ],
      "metadata": {
        "id": "b4s-pN4v6kgb"
      }
    },
    {
      "cell_type": "code",
      "source": [
        "url=\"/content/drive/MyDrive/CatData.csv\"\n",
        "cat =pd.read_csv(url)\n",
        "cat=cat.dropna()\n",
        "#print(student_mark_sheet.to_string())"
      ],
      "metadata": {
        "id": "mvZ3xrBV9b1s"
      },
      "execution_count": 37,
      "outputs": []
    },
    {
      "cell_type": "markdown",
      "source": [
        "**Part B** - Identify the independant and dependant variables (comment answer below)"
      ],
      "metadata": {
        "id": "bWxuB3ep9SWA"
      }
    },
    {
      "cell_type": "code",
      "source": [
        "# dependant variable: mass\n",
        "# independant variable: length"
      ],
      "metadata": {
        "id": "TS9tvuRt9cWr"
      },
      "execution_count": null,
      "outputs": []
    },
    {
      "cell_type": "markdown",
      "source": [
        "**Part C** - Create a linear regression model using sklearn and fit it to the data you just imported\n"
      ],
      "metadata": {
        "id": "xPHVA3cX7uk9"
      }
    },
    {
      "cell_type": "code",
      "source": [
        "from sklearn import linear_model\n",
        "import numpy as np\n",
        "num=int(len(cat)*0.8)\n",
        "train=cat[:num]\n",
        "test=cat[num:]\n",
        "r=linear_model.LinearRegression()\n",
        "x=np.array(train[[\"Tail Length (cm)\"]])\n",
        "y=np.array(train[[\"Mass (kg)\"]])\n",
        "r.fit(x,y)\n",
        "coefficients=r.coef_\n",
        "intercept=r.intercept_\n",
        "plt.plot(x,coefficients[0]*x+intercept)\n",
        "plt.xlabel(\"lenght\")\n",
        "plt.ylabel(\"mass\")\n",
        "plt.show()"
      ],
      "metadata": {
        "id": "WYVNRotH9cyo",
        "colab": {
          "base_uri": "https://localhost:8080/",
          "height": 279
        },
        "outputId": "1aaf15a5-0cf9-4704-b20a-a9f337ec0634"
      },
      "execution_count": 49,
      "outputs": [
        {
          "output_type": "display_data",
          "data": {
            "text/plain": [
              "<Figure size 432x288 with 1 Axes>"
            ],
            "image/png": "[encoded data removed]"
          },
          "metadata": {
            "needs_background": "light"
          }
        }
      ]
    },
    {
      "cell_type": "markdown",
      "source": [
        "**Part D** - Print the values for slope and y-intercept"
      ],
      "metadata": {
        "id": "0QMipKhb830G"
      }
    },
    {
      "cell_type": "code",
      "source": [
        "print(r.coef_, \" \", r.intercept_)"
      ],
      "metadata": {
        "id": "R7cvi3KB9dJh",
        "colab": {
          "base_uri": "https://localhost:8080/"
        },
        "outputId": "3ae6aed9-15f3-42c8-c0e1-4d3ddcdfd108"
      },
      "execution_count": 44,
      "outputs": [
        {
          "output_type": "stream",
          "name": "stdout",
          "text": [
            "[[0.48913766]]   [-5.57328662]\n"
          ]
        }
      ]
    },
    {
      "cell_type": "markdown",
      "source": [
        "**Part E** - Plot a scatter graph of the original data and a regression line on the same figure (example with dummy data shown below)\n",
        "\n",
        "![](https://drive.google.com/uc?export=view&id=1o_NAsNjfx7zAh9m-UjvWB3rta6uraKdY)"
      ],
      "metadata": {
        "id": "IIq-BQYp_i33"
      }
    },
    {
      "cell_type": "code",
      "source": [
        "plt.scatter(train[\"Tail Length (cm)\"], train[\"Mass (kg)\"])\n",
        "plt.plot(x,coefficients[0]*x+intercept, color=\"purple\")\n",
        "plt.xlabel(\"lenght\")\n",
        "plt.ylabel(\"mass\")\n",
        "plt.show()"
      ],
      "metadata": {
        "id": "jhz8gTYt_lCn",
        "colab": {
          "base_uri": "https://localhost:8080/",
          "height": 279
        },
        "outputId": "ffa2f124-1bde-4e21-e9de-62cf65a63226"
      },
      "execution_count": 48,
      "outputs": [
        {
          "output_type": "display_data",
          "data": {
            "text/plain": [
              "<Figure size 432x288 with 1 Axes>"
            ],
            "image/png": "[encoded data removed]"
          },
          "metadata": {
            "needs_background": "light"
          }
        }
      ]
    }
  ]
}